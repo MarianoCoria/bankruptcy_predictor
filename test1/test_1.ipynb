{
 "cells": [
  {
   "cell_type": "code",
   "execution_count": 39,
   "metadata": {},
   "outputs": [],
   "source": [
    "import random\n"
   ]
  },
  {
   "cell_type": "code",
   "execution_count": 141,
   "metadata": {},
   "outputs": [],
   "source": [
    "def weighted_random(values, weights):\n",
    "    total_weight = sum(weights)\n",
    "    acum_weights = [w / total_weight for w in weights[:]]\n",
    "    rand = random.random()\n",
    "    \n",
    "    for value, weight in zip(values, acum_weights):\n",
    "        rand = rand - weight \n",
    "        if rand<0:\n",
    "            return value\n"
   ]
  },
  {
   "cell_type": "code",
   "execution_count": 158,
   "metadata": {},
   "outputs": [
    {
     "name": "stdout",
     "output_type": "stream",
     "text": [
      "{1: 0.4991, 2: 0.3061, 3: 0.1948}\n"
     ]
    }
   ],
   "source": [
    "results = {1:0, 2:0, 3:0}\n",
    "test_count = 10000\n",
    "\n",
    "for i in range(0,test_count):\n",
    "    result = weighted_random([1, 2, 3], [0.5, 0.3, 0.2])\n",
    "    results[result]+=1\n",
    "\n",
    "print({x:results[x]/test_count for x in results})"
   ]
  }
 ],
 "metadata": {
  "kernelspec": {
   "display_name": "Python 3",
   "language": "python",
   "name": "python3"
  },
  "language_info": {
   "codemirror_mode": {
    "name": "ipython",
    "version": 3
   },
   "file_extension": ".py",
   "mimetype": "text/x-python",
   "name": "python",
   "nbconvert_exporter": "python",
   "pygments_lexer": "ipython3",
   "version": "3.7.3"
  }
 },
 "nbformat": 4,
 "nbformat_minor": 2
}
