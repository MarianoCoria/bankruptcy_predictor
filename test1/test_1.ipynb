{
 "cells": [
  {
   "cell_type": "code",
   "execution_count": 1,
   "metadata": {},
   "outputs": [],
   "source": [
    "import random\n"
   ]
  },
  {
   "cell_type": "code",
   "execution_count": 2,
   "metadata": {},
   "outputs": [],
   "source": [
    "def weighted_random(values, weights):\n",
    "    total_weight = sum(weights)\n",
    "    acum_weights = [w / total_weight for w in weights[:]]\n",
    "    rand = random.random()\n",
    "    \n",
    "    for value, weight in zip(values, acum_weights):\n",
    "        rand = rand - weight \n",
    "        if rand<0:\n",
    "            return value\n"
   ]
  },
  {
   "cell_type": "code",
   "execution_count": 3,
   "metadata": {},
   "outputs": [
    {
     "name": "stdout",
     "output_type": "stream",
     "text": [
      "It works just fine :3\n"
     ]
    }
   ],
   "source": [
    "# Test fixed version\n",
    "\n",
    "# Elements and respective weights\n",
    "elements    = [1, 2, 3]\n",
    "weights     = [0.5, 0.3, 0.2]\n",
    "results_qty = {x:0 for x in elements}\n",
    "TEST_COUNT  = 10000\n",
    "\n",
    "# Get a bunch of results\n",
    "for i in range(0,TEST_COUNT):\n",
    "    result = weighted_random(elements, weights)\n",
    "    results_qty[result] += 1\n",
    "\n",
    "#Create new dicts for true results and expected ones\n",
    "results_share    = { x : results_qty[x]/TEST_COUNT for x in results_qty}\n",
    "expected_results = dict(zip(elements,weights))\n",
    "\n",
    "# Assert 5% error in results distribution\n",
    "for x in results_share.keys():\n",
    "    assert (expected_results[x]*0.95 <= results_share[x] <= expected_results[x]*1.05)\n",
    "\n",
    "print('It works just fine :3')"
   ]
  },
  {
   "cell_type": "code",
   "execution_count": null,
   "metadata": {},
   "outputs": [],
   "source": []
  }
 ],
 "metadata": {
  "kernelspec": {
   "display_name": "Python 3",
   "language": "python",
   "name": "python3"
  },
  "language_info": {
   "codemirror_mode": {
    "name": "ipython",
    "version": 3
   },
   "file_extension": ".py",
   "mimetype": "text/x-python",
   "name": "python",
   "nbconvert_exporter": "python",
   "pygments_lexer": "ipython3",
   "version": "3.7.3"
  }
 },
 "nbformat": 4,
 "nbformat_minor": 2
}
